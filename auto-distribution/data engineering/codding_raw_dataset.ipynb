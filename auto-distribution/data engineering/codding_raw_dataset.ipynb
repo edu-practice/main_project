{
  "nbformat": 4,
  "nbformat_minor": 0,
  "metadata": {
    "colab": {
      "provenance": []
    },
    "kernelspec": {
      "name": "python3",
      "display_name": "Python 3"
    },
    "language_info": {
      "name": "python"
    }
  },
  "cells": [
    {
      "cell_type": "markdown",
      "source": [
        "# **Описание:**\n",
        "-Описание задачи: Привести к единому виду шаблонные ответы прошлых лет\n",
        "\n",
        "-Ожидаемый результат: Таблица с едиными данными опросов за 2019-2023 год (6 потоков)\n",
        "\n",
        "-Краткий вывод: Получена таблица, пригодная для дальнейшего анализа и решения задач по DS\n"
      ],
      "metadata": {
        "id": "F0mCIjoqTzX5"
      }
    },
    {
      "cell_type": "markdown",
      "source": [
        "# **План на исследование:**\n",
        "\n",
        "1.   Изучить колонки, требующие исправления\n",
        "2.   Исправить таблицу\n"
      ],
      "metadata": {
        "id": "-Y7MnaTSVnw5"
      }
    },
    {
      "cell_type": "markdown",
      "source": [
        "# **Шаги исследования:**\n",
        "\n",
        "## Шаг 1 - Закодировать категории ответов :\n",
        "Загружаю исходный [raw dataset](https://gitlab.com/edu_practice/auto-distribution-polina/-/blob/main/src/raw_dataset_1.xlsx?ref_type=heads) для обработки\n",
        "\n",
        "Кодирую категории ответов при помощи [скрипта](https://gitlab.com/edu_practice/auto-distribution-aleksander/-/blob/st115978-main-patch-15253/HHs.ipynb?ref_type=heads)\n",
        "\n",
        "## Шаг 2 - Избавиться от дублей в ответах :\n",
        "Закодированную таблицу очищаю от дублей при помощи [скрипта](https://gitlab.com/edu_practice/auto-distribution-polina/-/blob/clean_duplicates/src/dataset_no_dubl.ipynb?ref_type=heads)\n",
        "\n"
      ],
      "metadata": {
        "id": "Hw2_hEWQgW7w"
      }
    },
    {
      "cell_type": "markdown",
      "source": [
        "# **Выводы:**\n",
        "Таблица, полученная в результате работы пригодна для использования в задаче с кодированием категорий."
      ],
      "metadata": {
        "id": "67NLDVc8z2n9"
      }
    }
  ]
}
