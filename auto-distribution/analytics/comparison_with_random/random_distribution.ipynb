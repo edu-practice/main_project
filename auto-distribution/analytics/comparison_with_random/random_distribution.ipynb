{
 "cells": [
  {
   "cell_type": "code",
   "execution_count": 39,
   "metadata": {},
   "outputs": [],
   "source": [
    "import random\n",
    "import pandas as pd\n",
    "import numpy as np\n",
    "import copy"
   ]
  },
  {
   "cell_type": "code",
   "execution_count": 40,
   "metadata": {},
   "outputs": [],
   "source": [
    "# загрузка данных\n",
    "df = pd.read_excel('data_with_score_directions_roles.xlsx')\n",
    "projects_df = pd.read_excel('projects_raw_data.xlsx')"
   ]
  },
  {
   "cell_type": "code",
   "execution_count": 41,
   "metadata": {},
   "outputs": [],
   "source": [
    "# add version with pre-selected students\n",
    "\n",
    "def data_preparation(df_students, df_projects):\n",
    "   students = []\n",
    "   students_df = df_students.reset_index()\n",
    "\n",
    "   for _, student_df in students_df.iterrows():\n",
    "      student = dict()\n",
    "      student['st'] = student_df['Единая учетная запись СПбГУ (например, ST000000)']\n",
    "      student['year'] = student_df['Year']\n",
    "      student['season'] =  student_df['Season']\n",
    "      student['score'] = student_df['score']\n",
    "      #student['directions'] = eval(student_df['directions'])\n",
    "      #student['roles'] = eval(student_df['roles'])\n",
    "      students.append(student)\n",
    "    \n",
    "   projects = []\n",
    "   projects_df = df_projects.reset_index()\n",
    "   for _, project_df in projects_df.iterrows():\n",
    "      project = dict()\n",
    "      project['name'] = project_df['Проект']\n",
    "      project['year'] = project_df['Год']\n",
    "      project['season'] = project_df['Сезон']\n",
    "      project['remainder'] = 0\n",
    "      d = []\n",
    "      for w in project_df['Направление'].split(sep=','):\n",
    "         d.append(w.strip())\n",
    "      #project['directions'] = d\n",
    "      project['team'] = []\n",
    "      c=[]\n",
    "\n",
    "      '''for w in project_df['Состав команды'].split(sep=','):\n",
    "         if ':' in w:\n",
    "            student_st = w.split(sep=':')[1].strip()\n",
    "            for s in students:\n",
    "               if s['st'] == student_st:\n",
    "                  s['assigned'] = True\n",
    "                  project['team'].append(s)\n",
    "                  role = w.split(sep=':')[0]\n",
    "                  project[role.strip().lower()] = []\n",
    "                  project[role.strip().lower()].append([s['st'], s['score'], s['year'], s['season']])\n",
    "                  break\n",
    "            c.append(role.strip().lower())\n",
    "         else:   \n",
    "            project[w.strip().lower()] = []\n",
    "            c.append(w.strip().lower())\n",
    "      project['compound'] = c'''\n",
    "      \n",
    "      projects.append(project)\n",
    "\n",
    "   return students, projects\n"
   ]
  },
  {
   "cell_type": "code",
   "execution_count": 42,
   "metadata": {},
   "outputs": [],
   "source": [
    "# Распределение по остаточному признаку\n",
    "\n",
    "def distribute_students_random(students, projects, size=None):\n",
    "    assigned_students = []\n",
    "    distributed_projects = copy.deepcopy(projects)\n",
    "    distributed_students = copy.deepcopy(students)\n",
    "    for student in distributed_students:\n",
    "        if ('assigned' in student.keys()) and (student['assigned'] == True):\n",
    "            continue\n",
    "        else: \n",
    "            student['assigned'] = False\n",
    "    \n",
    "    if size is None: \n",
    "        size = len(students)//len(projects)\n",
    "\n",
    "    remaining_students = [student for student in distributed_students if ('assigned' in student.keys()) and (student['assigned'] == False)]\n",
    "    for project in distributed_projects:\n",
    "        project['remainder'] = size\n",
    "        while project['remainder'] > 0 and len(remaining_students) > 0:\n",
    "            student = remaining_students.pop(random.choice(range(len(remaining_students))))\n",
    "            project['team'].append([student['st'], student['score'], student['year'], student['season']])\n",
    "            project['remainder'] -= 1\n",
    "            student['assigned'] = True\n",
    "            assigned_students.append(student)  # Добавить студента в список назначенных        \n",
    "\n",
    "        if project['remainder'] == 0: \n",
    "            project['status'] = 'complete'\n",
    "        \n",
    "        project['team_mean_score'] = np.mean([s[1] for s in project['team']])\n",
    "    \n",
    "    while len(remaining_students) > 0:\n",
    "            student = remaining_students.pop(random.choice(range(len(remaining_students))))\n",
    "            p = random.choice(range(len(distributed_projects)))\n",
    "            distributed_projects[p]['team'].append([student['st'], student['score'], student['year'], student['season']])\n",
    "            if len(distributed_projects[p]['team']) == 0: \n",
    "               distributed_projects[p]['remainder'] = size - 1\n",
    "            else:\n",
    "                distributed_projects[p]['remainder'] -= 1\n",
    "            student['assigned'] = True\n",
    "            assigned_students.append(student)  \n",
    "            distributed_projects[p]['team_mean_score'] = np.mean([s[1] for s in project['team']])\n",
    "\n",
    "    \n",
    "    return distributed_students, distributed_projects\n",
    "            \n",
    "    "
   ]
  },
  {
   "cell_type": "code",
   "execution_count": 43,
   "metadata": {},
   "outputs": [],
   "source": [
    "#Пример для 2023 года Осень\n",
    "\n",
    "df_students_2023 = df[(df['Year'] == 2023) & (df['Season'] == 'Осень')]\n",
    "df_projects_2023 = projects_df[(projects_df['Год'] == 2023) & (projects_df['Сезон'] == 'Осень')]"
   ]
  },
  {
   "cell_type": "code",
   "execution_count": 44,
   "metadata": {},
   "outputs": [],
   "source": [
    "students, projects = data_preparation(df_students_2023, df_projects_2023)\n",
    "#team_size = 8\n",
    "#s_23,p_23 = distribute_students_random(students, projects)"
   ]
  },
  {
   "cell_type": "code",
   "execution_count": 56,
   "metadata": {},
   "outputs": [],
   "source": [
    "samples = []\n",
    "for i in range(100):\n",
    "    _,p_23 = distribute_students_random(students, projects)\n",
    "    samples.append(p_23)\n"
   ]
  },
  {
   "cell_type": "code",
   "execution_count": 58,
   "metadata": {},
   "outputs": [],
   "source": [
    "d = pd.DataFrame.from_records(samples)"
   ]
  },
  {
   "cell_type": "code",
   "execution_count": 65,
   "metadata": {},
   "outputs": [],
   "source": [
    "d.to_excel('DistributionrandomSamples_23autumn.xlsx')"
   ]
  }
 ],
 "metadata": {
  "kernelspec": {
   "display_name": "Python 3",
   "language": "python",
   "name": "python3"
  },
  "language_info": {
   "codemirror_mode": {
    "name": "ipython",
    "version": 3
   },
   "file_extension": ".py",
   "mimetype": "text/x-python",
   "name": "python",
   "nbconvert_exporter": "python",
   "pygments_lexer": "ipython3",
   "version": "3.12.0"
  }
 },
 "nbformat": 4,
 "nbformat_minor": 2
}
