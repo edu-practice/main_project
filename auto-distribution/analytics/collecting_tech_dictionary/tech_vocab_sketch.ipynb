{
 "cells": [
  {
   "cell_type": "markdown",
   "metadata": {},
   "source": [
    "## Поля с неструктурированным ответом:\n",
    "* Если в предыдущем вопросе для Вас не было интересного направления деятельности, расскажите нам об области, в которой Вы хотите развиваться\n",
    "* Если Вы уже работаете над интересным проектом или успешно завершили - опишите, что это за проект и свою роль в нем (можете добавить ссылку на репозиторий)\n",
    "* Какими еще знаниями Вы владеете, релевантными для IT-отрасли и в какой степени? Перечислите их и оцените\n",
    "* Языки программирования (например: C++, Python, Java, etc)\n",
    "* Библиотеки и фреймворки для различных направлений использования (например: Qt, Numpy, Weka, Angular, PyTorch, etc)\n",
    "* Инструменты для проектирования, бизнес и системного анализа (например: BPMN, UML, Archimate, ARIS etc)\n",
    "* Инструменты для разработки ПО - например: VS Code, PyCharm, Git, etc)\n",
    "* Инструменты для тестирования  (например: GTests, Selenium, Gatling, pytest etc)\n",
    "* Инструменты CI / CD (например: Jenkins, Travis CI, Docker, etc)\n",
    "* Инструменты для управления проектами (например: Jira, Trello, MS Project, etc) "
   ]
  },
  {
   "cell_type": "code",
   "execution_count": 62,
   "metadata": {},
   "outputs": [],
   "source": [
    "import pandas as pd\n",
    "# import matplotlib.pyplot as plt"
   ]
  },
  {
   "cell_type": "code",
   "execution_count": 63,
   "metadata": {},
   "outputs": [],
   "source": [
    "# df = pd.read_csv(\"Данные_для_генерации_распределений_студентов_по_проектам_IT_Клиника.csv\", error_bad_lines=False, warn_bad_lines=True)\n",
    "\n",
    "# df.head()"
   ]
  },
  {
   "cell_type": "code",
   "execution_count": 64,
   "metadata": {},
   "outputs": [
    {
     "data": {
      "text/html": [
       "<div>\n",
       "<style scoped>\n",
       "    .dataframe tbody tr th:only-of-type {\n",
       "        vertical-align: middle;\n",
       "    }\n",
       "\n",
       "    .dataframe tbody tr th {\n",
       "        vertical-align: top;\n",
       "    }\n",
       "\n",
       "    .dataframe thead th {\n",
       "        text-align: right;\n",
       "    }\n",
       "</style>\n",
       "<table border=\"1\" class=\"dataframe\">\n",
       "  <thead>\n",
       "    <tr style=\"text-align: right;\">\n",
       "      <th></th>\n",
       "      <th>Отметка времени</th>\n",
       "      <th>Единая учетная запись СПбГУ (например, ST000000)</th>\n",
       "      <th>Выберете интересующие Вас роли, в  IT [Бизнес и системный анализ]</th>\n",
       "      <th>Выберете интересующие Вас роли, в  IT [Дизайн UX / UI и проектирование интерфейсов]</th>\n",
       "      <th>Выберете интересующие Вас роли, в  IT [Анализ и инженерия данных]</th>\n",
       "      <th>Выберете интересующие Вас роли, в  IT [Backend - разработка]</th>\n",
       "      <th>Выберете интересующие Вас роли, в  IT [Frontend - разработка]</th>\n",
       "      <th>Выберете интересующие Вас роли, в  IT [Тестирование и обеспечение качества]</th>\n",
       "      <th>Выберете интересующие Вас роли, в  IT [Развертывание и внедрение]</th>\n",
       "      <th>Выберете интересующие Вас роли, в  IT [Управление командой / проектом]</th>\n",
       "      <th>...</th>\n",
       "      <th>SoftSkills [Коммуникации]</th>\n",
       "      <th>SoftSkills [Работа в команде]</th>\n",
       "      <th>SoftSkills [Наставничество]</th>\n",
       "      <th>SoftSkills [Управление людьми]</th>\n",
       "      <th>Какими еще навыками в области IT Вы обладаете? Оцените данные навыки</th>\n",
       "      <th>Оцените Ваш уровень мотивации [К работе над интересными проектами]</th>\n",
       "      <th>Оцените Ваш уровень мотивации [Определить свой путь дальнейшего развития и развиваться в IT]</th>\n",
       "      <th>Оцените Ваш уровень мотивации [Устроиться на интересную для себя работу]</th>\n",
       "      <th>Хотите ли Вы общаться с другими студентами и выпускниками, заинтересованными в развитии в области IT на базе СПбГУ на интересующие Вас темы?</th>\n",
       "      <th>Что Вам поможет развиваться быстрее в том направлении деятельности, которое Вы выбрали?</th>\n",
       "    </tr>\n",
       "  </thead>\n",
       "  <tbody>\n",
       "    <tr>\n",
       "      <th>0</th>\n",
       "      <td>2023-09-04 00:11:31.420</td>\n",
       "      <td>ST110863</td>\n",
       "      <td>Хочу поучаствовать в проекте в этой роли и раз...</td>\n",
       "      <td>Не интересно</td>\n",
       "      <td>Хочу поучаствовать в проекте в этой роли и раз...</td>\n",
       "      <td>Интересно, можно попробовать</td>\n",
       "      <td>Интересно, можно попробовать</td>\n",
       "      <td>Интересно, можно попробовать</td>\n",
       "      <td>Не интересно</td>\n",
       "      <td>Хочу поучаствовать в проекте в этой роли и раз...</td>\n",
       "      <td>...</td>\n",
       "      <td>Отлично</td>\n",
       "      <td>Отлично</td>\n",
       "      <td>Нормально</td>\n",
       "      <td>Хорошо</td>\n",
       "      <td>NaN</td>\n",
       "      <td>4 - Готов выполнять задания на благо команды</td>\n",
       "      <td>5 - Готов сам стать мотиватором для других</td>\n",
       "      <td>5 - Готов сам стать мотиватором для других</td>\n",
       "      <td>Да</td>\n",
       "      <td>Практика</td>\n",
       "    </tr>\n",
       "    <tr>\n",
       "      <th>1</th>\n",
       "      <td>2023-09-04 00:17:43.746</td>\n",
       "      <td>ST115979</td>\n",
       "      <td>Не интересно</td>\n",
       "      <td>Хочу поучаствовать в проекте в этой роли и раз...</td>\n",
       "      <td>Не интересно</td>\n",
       "      <td>Интересно, можно попробовать</td>\n",
       "      <td>Интересно, можно попробовать</td>\n",
       "      <td>Интересно, можно попробовать</td>\n",
       "      <td>Не интересно</td>\n",
       "      <td>Интересно, можно попробовать</td>\n",
       "      <td>...</td>\n",
       "      <td>Хорошо</td>\n",
       "      <td>Хорошо</td>\n",
       "      <td>Хорошо</td>\n",
       "      <td>Нормально</td>\n",
       "      <td>NaN</td>\n",
       "      <td>4 - Готов выполнять задания на благо команды</td>\n",
       "      <td>4 - Готов выполнять задания на благо команды</td>\n",
       "      <td>4 - Готов выполнять задания на благо команды</td>\n",
       "      <td>Да</td>\n",
       "      <td>Советы опытных специалистов и чтение научных с...</td>\n",
       "    </tr>\n",
       "    <tr>\n",
       "      <th>2</th>\n",
       "      <td>2023-09-04 00:32:39.844</td>\n",
       "      <td>ST068863</td>\n",
       "      <td>Интересно, можно попробовать</td>\n",
       "      <td>Не интересно</td>\n",
       "      <td>Интересно, можно попробовать</td>\n",
       "      <td>Интересно, можно попробовать</td>\n",
       "      <td>Интересно, можно попробовать</td>\n",
       "      <td>Интересно, можно попробовать</td>\n",
       "      <td>Интересно, можно попробовать</td>\n",
       "      <td>Интересно, можно попробовать</td>\n",
       "      <td>...</td>\n",
       "      <td>Отлично</td>\n",
       "      <td>Хорошо</td>\n",
       "      <td>Отлично</td>\n",
       "      <td>Хорошо</td>\n",
       "      <td>NaN</td>\n",
       "      <td>4 - Готов выполнять задания на благо команды</td>\n",
       "      <td>4 - Готов выполнять задания на благо команды</td>\n",
       "      <td>5 - Готов сам стать мотиватором для других</td>\n",
       "      <td>Да</td>\n",
       "      <td>NaN</td>\n",
       "    </tr>\n",
       "    <tr>\n",
       "      <th>3</th>\n",
       "      <td>2023-09-04 00:35:23.178</td>\n",
       "      <td>ST106375</td>\n",
       "      <td>Интересно, можно попробовать</td>\n",
       "      <td>Не интересно</td>\n",
       "      <td>Хочу поучаствовать в проекте в этой роли и раз...</td>\n",
       "      <td>Не интересно</td>\n",
       "      <td>Не интересно</td>\n",
       "      <td>Не интересно</td>\n",
       "      <td>Не интересно</td>\n",
       "      <td>Не интересно</td>\n",
       "      <td>...</td>\n",
       "      <td>Нормально</td>\n",
       "      <td>Хорошо</td>\n",
       "      <td>Ниже среднего</td>\n",
       "      <td>Ниже среднего</td>\n",
       "      <td>NaN</td>\n",
       "      <td>5 - Готов сам стать мотиватором для других</td>\n",
       "      <td>5 - Готов сам стать мотиватором для других</td>\n",
       "      <td>5 - Готов сам стать мотиватором для других</td>\n",
       "      <td>Да</td>\n",
       "      <td>У меня нет опыта но хочу работать в сфере ИТ п...</td>\n",
       "    </tr>\n",
       "    <tr>\n",
       "      <th>4</th>\n",
       "      <td>2023-09-04 00:51:36.202</td>\n",
       "      <td>ST068010</td>\n",
       "      <td>Интересно, можно попробовать</td>\n",
       "      <td>Интересно, можно попробовать</td>\n",
       "      <td>Хочу поучаствовать в проекте в этой роли и раз...</td>\n",
       "      <td>Не интересно</td>\n",
       "      <td>Не интересно</td>\n",
       "      <td>Интересно, можно попробовать</td>\n",
       "      <td>Не интересно</td>\n",
       "      <td>Интересно, можно попробовать</td>\n",
       "      <td>...</td>\n",
       "      <td>Нормально</td>\n",
       "      <td>Нормально</td>\n",
       "      <td>Нормально</td>\n",
       "      <td>Нормально</td>\n",
       "      <td>NaN</td>\n",
       "      <td>3 - Готов выполнять задания, но если в них виж...</td>\n",
       "      <td>3 - Готов выполнять задания, но если в них виж...</td>\n",
       "      <td>5 - Готов сам стать мотиватором для других</td>\n",
       "      <td>Да</td>\n",
       "      <td>NaN</td>\n",
       "    </tr>\n",
       "  </tbody>\n",
       "</table>\n",
       "<p>5 rows × 54 columns</p>\n",
       "</div>"
      ],
      "text/plain": [
       "          Отметка времени Единая учетная запись СПбГУ (например, ST000000)  \\\n",
       "0 2023-09-04 00:11:31.420                                         ST110863   \n",
       "1 2023-09-04 00:17:43.746                                         ST115979   \n",
       "2 2023-09-04 00:32:39.844                                         ST068863   \n",
       "3 2023-09-04 00:35:23.178                                         ST106375   \n",
       "4 2023-09-04 00:51:36.202                                         ST068010   \n",
       "\n",
       "  Выберете интересующие Вас роли, в  IT [Бизнес и системный анализ]  \\\n",
       "0  Хочу поучаствовать в проекте в этой роли и раз...                  \n",
       "1                                       Не интересно                  \n",
       "2                       Интересно, можно попробовать                  \n",
       "3                       Интересно, можно попробовать                  \n",
       "4                       Интересно, можно попробовать                  \n",
       "\n",
       "  Выберете интересующие Вас роли, в  IT [Дизайн UX / UI и проектирование интерфейсов]  \\\n",
       "0                                       Не интересно                                    \n",
       "1  Хочу поучаствовать в проекте в этой роли и раз...                                    \n",
       "2                                       Не интересно                                    \n",
       "3                                       Не интересно                                    \n",
       "4                       Интересно, можно попробовать                                    \n",
       "\n",
       "  Выберете интересующие Вас роли, в  IT [Анализ и инженерия данных]  \\\n",
       "0  Хочу поучаствовать в проекте в этой роли и раз...                  \n",
       "1                                       Не интересно                  \n",
       "2                       Интересно, можно попробовать                  \n",
       "3  Хочу поучаствовать в проекте в этой роли и раз...                  \n",
       "4  Хочу поучаствовать в проекте в этой роли и раз...                  \n",
       "\n",
       "  Выберете интересующие Вас роли, в  IT [Backend - разработка]  \\\n",
       "0                       Интересно, можно попробовать             \n",
       "1                       Интересно, можно попробовать             \n",
       "2                       Интересно, можно попробовать             \n",
       "3                                       Не интересно             \n",
       "4                                       Не интересно             \n",
       "\n",
       "  Выберете интересующие Вас роли, в  IT [Frontend - разработка]  \\\n",
       "0                       Интересно, можно попробовать              \n",
       "1                       Интересно, можно попробовать              \n",
       "2                       Интересно, можно попробовать              \n",
       "3                                       Не интересно              \n",
       "4                                       Не интересно              \n",
       "\n",
       "  Выберете интересующие Вас роли, в  IT [Тестирование и обеспечение качества]  \\\n",
       "0                       Интересно, можно попробовать                            \n",
       "1                       Интересно, можно попробовать                            \n",
       "2                       Интересно, можно попробовать                            \n",
       "3                                       Не интересно                            \n",
       "4                       Интересно, можно попробовать                            \n",
       "\n",
       "  Выберете интересующие Вас роли, в  IT [Развертывание и внедрение]  \\\n",
       "0                                       Не интересно                  \n",
       "1                                       Не интересно                  \n",
       "2                       Интересно, можно попробовать                  \n",
       "3                                       Не интересно                  \n",
       "4                                       Не интересно                  \n",
       "\n",
       "  Выберете интересующие Вас роли, в  IT [Управление командой / проектом]  ...  \\\n",
       "0  Хочу поучаствовать в проекте в этой роли и раз...                      ...   \n",
       "1                       Интересно, можно попробовать                      ...   \n",
       "2                       Интересно, можно попробовать                      ...   \n",
       "3                                       Не интересно                      ...   \n",
       "4                       Интересно, можно попробовать                      ...   \n",
       "\n",
       "  SoftSkills [Коммуникации] SoftSkills [Работа в команде]  \\\n",
       "0                   Отлично                       Отлично   \n",
       "1                    Хорошо                        Хорошо   \n",
       "2                   Отлично                        Хорошо   \n",
       "3                 Нормально                        Хорошо   \n",
       "4                 Нормально                     Нормально   \n",
       "\n",
       "  SoftSkills [Наставничество] SoftSkills [Управление людьми]  \\\n",
       "0                   Нормально                         Хорошо   \n",
       "1                      Хорошо                      Нормально   \n",
       "2                     Отлично                         Хорошо   \n",
       "3               Ниже среднего                  Ниже среднего   \n",
       "4                   Нормально                      Нормально   \n",
       "\n",
       "  Какими еще навыками в области IT Вы обладаете? Оцените данные навыки  \\\n",
       "0                                                NaN                     \n",
       "1                                                NaN                     \n",
       "2                                                NaN                     \n",
       "3                                                NaN                     \n",
       "4                                                NaN                     \n",
       "\n",
       "  Оцените Ваш уровень мотивации [К работе над интересными проектами]  \\\n",
       "0       4 - Готов выполнять задания на благо команды                   \n",
       "1       4 - Готов выполнять задания на благо команды                   \n",
       "2       4 - Готов выполнять задания на благо команды                   \n",
       "3         5 - Готов сам стать мотиватором для других                   \n",
       "4  3 - Готов выполнять задания, но если в них виж...                   \n",
       "\n",
       "  Оцените Ваш уровень мотивации [Определить свой путь дальнейшего развития и развиваться в IT]  \\\n",
       "0         5 - Готов сам стать мотиватором для других                                             \n",
       "1       4 - Готов выполнять задания на благо команды                                             \n",
       "2       4 - Готов выполнять задания на благо команды                                             \n",
       "3         5 - Готов сам стать мотиватором для других                                             \n",
       "4  3 - Готов выполнять задания, но если в них виж...                                             \n",
       "\n",
       "  Оцените Ваш уровень мотивации [Устроиться на интересную для себя работу]  \\\n",
       "0         5 - Готов сам стать мотиватором для других                         \n",
       "1       4 - Готов выполнять задания на благо команды                         \n",
       "2         5 - Готов сам стать мотиватором для других                         \n",
       "3         5 - Готов сам стать мотиватором для других                         \n",
       "4         5 - Готов сам стать мотиватором для других                         \n",
       "\n",
       "  Хотите ли Вы общаться с другими студентами и выпускниками, заинтересованными в развитии в области IT на базе СПбГУ на интересующие Вас темы?  \\\n",
       "0                                                 Да                                                                                             \n",
       "1                                                 Да                                                                                             \n",
       "2                                                 Да                                                                                             \n",
       "3                                                 Да                                                                                             \n",
       "4                                                 Да                                                                                             \n",
       "\n",
       "  Что Вам поможет развиваться быстрее в том направлении деятельности, которое Вы выбрали?  \n",
       "0                                           Практика                                       \n",
       "1  Советы опытных специалистов и чтение научных с...                                       \n",
       "2                                                NaN                                       \n",
       "3  У меня нет опыта но хочу работать в сфере ИТ п...                                       \n",
       "4                                                NaN                                       \n",
       "\n",
       "[5 rows x 54 columns]"
      ]
     },
     "execution_count": 64,
     "metadata": {},
     "output_type": "execute_result"
    }
   ],
   "source": [
    "df = pd.read_excel(\"raw_dataset_1.xlsx\")\n",
    "df.head()"
   ]
  },
  {
   "cell_type": "code",
   "execution_count": 65,
   "metadata": {},
   "outputs": [
    {
     "data": {
      "text/html": [
       "<div>\n",
       "<style scoped>\n",
       "    .dataframe tbody tr th:only-of-type {\n",
       "        vertical-align: middle;\n",
       "    }\n",
       "\n",
       "    .dataframe tbody tr th {\n",
       "        vertical-align: top;\n",
       "    }\n",
       "\n",
       "    .dataframe thead th {\n",
       "        text-align: right;\n",
       "    }\n",
       "</style>\n",
       "<table border=\"1\" class=\"dataframe\">\n",
       "  <thead>\n",
       "    <tr style=\"text-align: right;\">\n",
       "      <th></th>\n",
       "      <th>Единая учетная запись СПбГУ (например, ST000000)</th>\n",
       "      <th>Какими еще знаниями Вы владеете, релевантными для IT-отрасли и в какой степени? Перечислите их и оцените</th>\n",
       "      <th>Языки программирования (например: C++, Python, Java, etc)</th>\n",
       "      <th>Библиотеки и фреймворки для различных направлений использования (например: Qt, Numpy, Weka, Angular, PyTorch, etc)</th>\n",
       "      <th>Инструменты для проектирования, бизнес и системного анализа (например: BPMN, UML, Archimate, ARIS etc)</th>\n",
       "      <th>Инструменты для разработки ПО - например: VS Code, PyCharm, Git, etc)</th>\n",
       "      <th>Инструменты для тестирования  (например: GTests, Selenium, Gatling, pytest etc)</th>\n",
       "      <th>Инструменты CI / CD (например: Jenkins, Travis CI, Docker, etc)</th>\n",
       "      <th>Инструменты для управления проектами (например: Jira, Trello, MS Project, etc)</th>\n",
       "    </tr>\n",
       "  </thead>\n",
       "  <tbody>\n",
       "    <tr>\n",
       "      <th>0</th>\n",
       "      <td>ST110863</td>\n",
       "      <td>NaN</td>\n",
       "      <td>Python - 3\\nSQL - 3</td>\n",
       "      <td>Numpy, pandas - 2</td>\n",
       "      <td>UML - 1</td>\n",
       "      <td>VS Code - 3\\nPyCharm - 2</td>\n",
       "      <td>Pytest- 3</td>\n",
       "      <td>GitHub Actions -3\\nDocker -2</td>\n",
       "      <td>NaN</td>\n",
       "    </tr>\n",
       "    <tr>\n",
       "      <th>1</th>\n",
       "      <td>ST115979</td>\n",
       "      <td>NaN</td>\n",
       "      <td>C# - 5\\nC++ - 4\\nPython - 4</td>\n",
       "      <td>Numpy - 4\\nSeaborn - 3\\nPandas - 4\\nQt - 3</td>\n",
       "      <td>BPMN - 4\\nUML - 4</td>\n",
       "      <td>Visual Studio - 5\\nVS Code - 5\\nPyCharm - 5\\nG...</td>\n",
       "      <td>NaN</td>\n",
       "      <td>Docker - 1</td>\n",
       "      <td>MS Project - 1</td>\n",
       "    </tr>\n",
       "    <tr>\n",
       "      <th>2</th>\n",
       "      <td>ST068863</td>\n",
       "      <td>NaN</td>\n",
       "      <td>С++ - 3\\nPython - 5</td>\n",
       "      <td>Numpy - 5\\nPytorch - 5</td>\n",
       "      <td>NaN</td>\n",
       "      <td>Pycharm - 4\\nGit - 4</td>\n",
       "      <td>pytest - 4</td>\n",
       "      <td>GitHub actions - 4</td>\n",
       "      <td>YouTrack - 4</td>\n",
       "    </tr>\n",
       "    <tr>\n",
       "      <th>3</th>\n",
       "      <td>ST106375</td>\n",
       "      <td>линейная алгебра 2\\n, Я прошлa курсы Google D...</td>\n",
       "      <td>Python 2\\n</td>\n",
       "      <td>Numpy 2\\nMatplotlib 2\\nscikitlearn 2\\npytorch ...</td>\n",
       "      <td>excel 2 \\nsql 2</td>\n",
       "      <td>google colab 2\\nvs code 1\\npycharm 2 \\ngit 1</td>\n",
       "      <td>NaN</td>\n",
       "      <td>NaN</td>\n",
       "      <td>NaN</td>\n",
       "    </tr>\n",
       "    <tr>\n",
       "      <th>4</th>\n",
       "      <td>ST068010</td>\n",
       "      <td>NaN</td>\n",
       "      <td>C++ - 3,  Python - 4</td>\n",
       "      <td>Numpy - 5, Pandas - 3, Pyspark - 2, Tensorflow...</td>\n",
       "      <td>NaN</td>\n",
       "      <td>PyCharm - 4, Git - 4, VS Code - 4</td>\n",
       "      <td>NaN</td>\n",
       "      <td>Docker - 2</td>\n",
       "      <td>NaN</td>\n",
       "    </tr>\n",
       "  </tbody>\n",
       "</table>\n",
       "</div>"
      ],
      "text/plain": [
       "  Единая учетная запись СПбГУ (например, ST000000)  \\\n",
       "0                                         ST110863   \n",
       "1                                         ST115979   \n",
       "2                                         ST068863   \n",
       "3                                         ST106375   \n",
       "4                                         ST068010   \n",
       "\n",
       "  Какими еще знаниями Вы владеете, релевантными для IT-отрасли и в какой степени? Перечислите их и оцените  \\\n",
       "0                                                NaN                                                         \n",
       "1                                                NaN                                                         \n",
       "2                                                NaN                                                         \n",
       "3   линейная алгебра 2\\n, Я прошлa курсы Google D...                                                         \n",
       "4                                                NaN                                                         \n",
       "\n",
       "  Языки программирования (например: C++, Python, Java, etc)  \\\n",
       "0                                Python - 3\\nSQL - 3          \n",
       "1                        C# - 5\\nC++ - 4\\nPython - 4          \n",
       "2                               С++ - 3\\nPython - 5           \n",
       "3                                         Python 2\\n          \n",
       "4                               C++ - 3,  Python - 4          \n",
       "\n",
       "  Библиотеки и фреймворки для различных направлений использования (например: Qt, Numpy, Weka, Angular, PyTorch, etc)  \\\n",
       "0                                  Numpy, pandas - 2                                                                   \n",
       "1         Numpy - 4\\nSeaborn - 3\\nPandas - 4\\nQt - 3                                                                   \n",
       "2                             Numpy - 5\\nPytorch - 5                                                                   \n",
       "3  Numpy 2\\nMatplotlib 2\\nscikitlearn 2\\npytorch ...                                                                   \n",
       "4  Numpy - 5, Pandas - 3, Pyspark - 2, Tensorflow...                                                                   \n",
       "\n",
       "  Инструменты для проектирования, бизнес и системного анализа (например: BPMN, UML, Archimate, ARIS etc)  \\\n",
       "0                                            UML - 1                                                       \n",
       "1                                  BPMN - 4\\nUML - 4                                                       \n",
       "2                                                NaN                                                       \n",
       "3                                    excel 2 \\nsql 2                                                       \n",
       "4                                                NaN                                                       \n",
       "\n",
       "  Инструменты для разработки ПО - например: VS Code, PyCharm, Git, etc)  \\\n",
       "0                           VS Code - 3\\nPyCharm - 2                      \n",
       "1  Visual Studio - 5\\nVS Code - 5\\nPyCharm - 5\\nG...                      \n",
       "2                               Pycharm - 4\\nGit - 4                      \n",
       "3       google colab 2\\nvs code 1\\npycharm 2 \\ngit 1                      \n",
       "4                  PyCharm - 4, Git - 4, VS Code - 4                      \n",
       "\n",
       "  Инструменты для тестирования  (например: GTests, Selenium, Gatling, pytest etc)  \\\n",
       "0                                          Pytest- 3                                \n",
       "1                                                NaN                                \n",
       "2                                         pytest - 4                                \n",
       "3                                                NaN                                \n",
       "4                                                NaN                                \n",
       "\n",
       "  Инструменты CI / CD (например: Jenkins, Travis CI, Docker, etc)  \\\n",
       "0                       GitHub Actions -3\\nDocker -2                \n",
       "1                                         Docker - 1                \n",
       "2                                 GitHub actions - 4                \n",
       "3                                                NaN                \n",
       "4                                         Docker - 2                \n",
       "\n",
       "  Инструменты для управления проектами (например: Jira, Trello, MS Project, etc)   \n",
       "0                                                NaN                               \n",
       "1                                     MS Project - 1                               \n",
       "2                                       YouTrack - 4                               \n",
       "3                                                NaN                               \n",
       "4                                                NaN                               "
      ]
     },
     "execution_count": 65,
     "metadata": {},
     "output_type": "execute_result"
    }
   ],
   "source": [
    "new_df = df[[\n",
    "'Единая учетная запись СПбГУ (например, ST000000)', \n",
    "'Какими еще знаниями Вы владеете, релевантными для IT-отрасли и в какой степени? Перечислите их и оцените', \n",
    "'Языки программирования (например: C++, Python, Java, etc)', \n",
    "'Библиотеки и фреймворки для различных направлений использования (например: Qt, Numpy, Weka, Angular, PyTorch, etc)', \n",
    "'Инструменты для проектирования, бизнес и системного анализа (например: BPMN, UML, Archimate, ARIS etc)', \n",
    "'Инструменты для разработки ПО - например: VS Code, PyCharm, Git, etc)', \n",
    "'Инструменты для тестирования  (например: GTests, Selenium, Gatling, pytest etc)', \n",
    "'Инструменты CI / CD (например: Jenkins, Travis CI, Docker, etc)',\n",
    "'Инструменты для управления проектами (например: Jira, Trello, MS Project, etc) ']]\n",
    "\n",
    "new_df.head()"
   ]
  },
  {
   "cell_type": "code",
   "execution_count": 66,
   "metadata": {},
   "outputs": [
    {
     "name": "stdout",
     "output_type": "stream",
     "text": [
      "<class 'pandas.core.frame.DataFrame'>\n",
      "RangeIndex: 361 entries, 0 to 360\n",
      "Data columns (total 9 columns):\n",
      " #   Column                                                                                                              Non-Null Count  Dtype \n",
      "---  ------                                                                                                              --------------  ----- \n",
      " 0   Единая учетная запись СПбГУ (например, ST000000)                                                                    361 non-null    object\n",
      " 1   Какими еще знаниями Вы владеете, релевантными для IT-отрасли и в какой степени? Перечислите их и оцените            121 non-null    object\n",
      " 2   Языки программирования (например: C++, Python, Java, etc)                                                           358 non-null    object\n",
      " 3   Библиотеки и фреймворки для различных направлений использования (например: Qt, Numpy, Weka, Angular, PyTorch, etc)  313 non-null    object\n",
      " 4   Инструменты для проектирования, бизнес и системного анализа (например: BPMN, UML, Archimate, ARIS etc)              83 non-null     object\n",
      " 5   Инструменты для разработки ПО - например: VS Code, PyCharm, Git, etc)                                               319 non-null    object\n",
      " 6   Инструменты для тестирования  (например: GTests, Selenium, Gatling, pytest etc)                                     130 non-null    object\n",
      " 7   Инструменты CI / CD (например: Jenkins, Travis CI, Docker, etc)                                                     157 non-null    object\n",
      " 8   Инструменты для управления проектами (например: Jira, Trello, MS Project, etc)                                      189 non-null    object\n",
      "dtypes: object(9)\n",
      "memory usage: 25.5+ KB\n"
     ]
    }
   ],
   "source": [
    "new_df.info()"
   ]
  },
  {
   "cell_type": "code",
   "execution_count": 67,
   "metadata": {},
   "outputs": [],
   "source": [
    "new_df = new_df.astype('str')"
   ]
  },
  {
   "cell_type": "code",
   "execution_count": 68,
   "metadata": {},
   "outputs": [
    {
     "data": {
      "text/plain": [
       "Единая учетная запись СПбГУ (например, ST000000)                                                                      object\n",
       "Какими еще знаниями Вы владеете, релевантными для IT-отрасли и в какой степени? Перечислите их и оцените              object\n",
       "Языки программирования (например: C++, Python, Java, etc)                                                             object\n",
       "Библиотеки и фреймворки для различных направлений использования (например: Qt, Numpy, Weka, Angular, PyTorch, etc)    object\n",
       "Инструменты для проектирования, бизнес и системного анализа (например: BPMN, UML, Archimate, ARIS etc)                object\n",
       "Инструменты для разработки ПО - например: VS Code, PyCharm, Git, etc)                                                 object\n",
       "Инструменты для тестирования  (например: GTests, Selenium, Gatling, pytest etc)                                       object\n",
       "Инструменты CI / CD (например: Jenkins, Travis CI, Docker, etc)                                                       object\n",
       "Инструменты для управления проектами (например: Jira, Trello, MS Project, etc)                                        object\n",
       "dtype: object"
      ]
     },
     "execution_count": 68,
     "metadata": {},
     "output_type": "execute_result"
    }
   ],
   "source": [
    "new_df.dtypes"
   ]
  },
  {
   "cell_type": "code",
   "execution_count": 69,
   "metadata": {},
   "outputs": [
    {
     "name": "stdout",
     "output_type": "stream",
     "text": [
      "0                                    Python - 3\\nSQL - 3\n",
      "1                            C# - 5\\nC++ - 4\\nPython - 4\n",
      "2                                   С++ - 3\\nPython - 5 \n",
      "3                                             Python 2\\n\n",
      "4                                   C++ - 3,  Python - 4\n",
      "                             ...                        \n",
      "356              C++ - 2\\nPython - 2\\nJava - 2\\nRust - 2\n",
      "357    C++ - 3\\nPython - 3\\nJavaScript - 3\\nErlang - ...\n",
      "358                 Rust - 4\\nPython - 3\\nC - 3\\nC++ - 3\n",
      "359                                   C++ Python Kotlin \n",
      "360                        С++ - 1\\nPython - 3\\nJava - 2\n",
      "Name: Языки программирования (например: C++, Python, Java, etc), Length: 361, dtype: object\n"
     ]
    }
   ],
   "source": [
    "print(new_df['Языки программирования (например: C++, Python, Java, etc)'])"
   ]
  },
  {
   "cell_type": "code",
   "execution_count": 70,
   "metadata": {},
   "outputs": [],
   "source": [
    "import re"
   ]
  },
  {
   "cell_type": "code",
   "execution_count": 71,
   "metadata": {},
   "outputs": [
    {
     "name": "stdout",
     "output_type": "stream",
     "text": [
      "['C++', 'c++', '++']\n"
     ]
    }
   ],
   "source": [
    "# Sandbox\n",
    "# import re\n",
    "\n",
    "text = \"\"\"\n",
    "c++ - 5\\nC++ - 4\\nс++ - 4\n",
    "\"\"\"\n",
    "pattern2 = r\"\\n?([a-zA-Z\\-\\+ # .]+) - \\d\"\n",
    "pattern1 = r\"\\n?([a-zA-Z\\-\\+ #]+) -\"\n",
    "pattern = r\"\\n?([a-zA-Z\\- ]+) - \\d\" ## r\"([a-zA-Z0-9\\- ]+?) - \\d\"\n",
    "matches = re.findall(pattern2, text)\n",
    "\n",
    "# Удаление дубликатов и сохранение результатов в список\n",
    "tech_list = list(set(matches))\n",
    "print(tech_list)\n"
   ]
  },
  {
   "cell_type": "code",
   "execution_count": 72,
   "metadata": {},
   "outputs": [
    {
     "name": "stdout",
     "output_type": "stream",
     "text": [
      "Этот текст содержит c++ и ещё c++.\n"
     ]
    }
   ],
   "source": [
    "text = \"Этот текст содержит с++ и ещё с++.\"\n",
    "corrected_text = text.replace(\"с++\", \"c++\")\n",
    "print(corrected_text)\n"
   ]
  },
  {
   "cell_type": "code",
   "execution_count": 73,
   "metadata": {},
   "outputs": [],
   "source": [
    "import csv"
   ]
  },
  {
   "cell_type": "code",
   "execution_count": 74,
   "metadata": {},
   "outputs": [],
   "source": [
    "# Функция для извлечения технологий из строки\n",
    "def extract_techs(text):\n",
    "    pattern = r\"\\n?([a-zA-Z\\-\\+ # .]+) - \\d\" \n",
    "    return re.findall(pattern, text)"
   ]
  },
  {
   "cell_type": "code",
   "execution_count": 75,
   "metadata": {},
   "outputs": [],
   "source": [
    "def extract_from_df(column_name: str) -> set:\n",
    "    # Извлечение технологий из каждой строки и объединение в множество\n",
    "    all_languages = set()\n",
    "    for row in new_df[column_name]:\n",
    "        row_lower = row.lower()\n",
    "        cleaned_row = row_lower.replace('\\n', '')\n",
    "        cleaned_row = cleaned_row.replace('с', 'c')\n",
    "        cleaned_row = cleaned_row.replace('c ++', \"c++\")\n",
    "        for tech in extract_techs(cleaned_row):\n",
    "            all_languages.add(tech.lower())\n",
    "        # all_languages.add(extract_techs(row))\n",
    "    print(len(all_languages))\n",
    "    return all_languages"
   ]
  },
  {
   "cell_type": "code",
   "execution_count": 76,
   "metadata": {},
   "outputs": [],
   "source": [
    "def write_file(extracted_features, file_name:str):\n",
    "    if extracted_features:\n",
    "        cleaned_matches = [match.strip() for match in extracted_features]\n",
    "        cleaned_matches = set(cleaned_matches)\n",
    "        # print(len(cleaned_matches))\n",
    "        # Открываем файл для записи\n",
    "        with open(file_name, 'w', newline='', encoding='utf-8') as file:\n",
    "            writer = csv.writer(file)\n",
    "            for tech in cleaned_matches:\n",
    "                writer.writerow([tech])  # Записываем каждую технологию в отдельной строке файла"
   ]
  },
  {
   "cell_type": "markdown",
   "metadata": {},
   "source": [
    "Выписываем языки программирования"
   ]
  },
  {
   "cell_type": "code",
   "execution_count": 77,
   "metadata": {},
   "outputs": [
    {
     "name": "stdout",
     "output_type": "stream",
     "text": [
      "76\n",
      "{'elm', 'hascell', 'java', 'matematica', ' js', 'cmake', ' d', 'haskell', 'bash', 'typescript', ' java', 'js', 'php', 'pyhton', 'sql', 'lua', 'react', 'ahk', ' arduino c', '  typescript', 'perl', 'c++', 'cg', 'kotlin', ' c++', 'solidity', 'cobol', 'pascal', 'fortran', ' phython', 'swift', 'css', 'd', 'nim', 'factor', 'crystal', '  kotlin', 'c#', 'erlang', 'objective-c', 'python ', ' golang', 'assembler', 'ada', 'javascript', 'python', ' php', ' sas', 'matlab', ' typescript', 'rust', 'java script', 'ts', 'ruby', ' c#', '  python', 'unreal engine', 'f#', ' python', 'krl', 'ocaml', 'html', 'c', 'clojure', 'gdscript', ' r', 'scala', 'go', 'dart', 'golang', 'reason ml', 'r', 'elixir', 'swift ', 'django', ' gdscript'}\n"
     ]
    },
    {
     "data": {
      "text/plain": [
       "76"
      ]
     },
     "execution_count": 77,
     "metadata": {},
     "output_type": "execute_result"
    }
   ],
   "source": [
    "all_languages = extract_from_df('Языки программирования (например: C++, Python, Java, etc)')\n",
    "print(all_languages)\n",
    "write_file(all_languages, 'languages.txt')\n",
    "len(all_languages)"
   ]
  },
  {
   "cell_type": "markdown",
   "metadata": {},
   "source": [
    "Выписываем Библиотеки и фреймворки для различных направлений использования"
   ]
  },
  {
   "cell_type": "code",
   "execution_count": 78,
   "metadata": {},
   "outputs": [
    {
     "name": "stdout",
     "output_type": "stream",
     "text": [
      "270\n"
     ]
    }
   ],
   "source": [
    "all_frameworks = extract_from_df('Библиотеки и фреймворки для различных направлений использования (например: Qt, Numpy, Weka, Angular, PyTorch, etc)')\n",
    "write_file(all_frameworks, 'frameworks.txt')"
   ]
  },
  {
   "cell_type": "markdown",
   "metadata": {},
   "source": [
    "Инструменты для проектирования, бизнес и системного анализа (например: BPMN, UML, Archimate, ARIS etc)"
   ]
  },
  {
   "cell_type": "code",
   "execution_count": 79,
   "metadata": {},
   "outputs": [
    {
     "name": "stdout",
     "output_type": "stream",
     "text": [
      "22\n"
     ]
    }
   ],
   "source": [
    "all_analysis_tools = extract_from_df('Инструменты для проектирования, бизнес и системного анализа (например: BPMN, UML, Archimate, ARIS etc)')\n",
    "write_file(all_analysis_tools, 'analysis_tools.txt')"
   ]
  },
  {
   "cell_type": "markdown",
   "metadata": {},
   "source": [
    "Инструменты для разработки ПО"
   ]
  },
  {
   "cell_type": "code",
   "execution_count": 80,
   "metadata": {},
   "outputs": [
    {
     "name": "stdout",
     "output_type": "stream",
     "text": [
      "108\n"
     ]
    }
   ],
   "source": [
    "dev_tools = extract_from_df('Инструменты для разработки ПО - например: VS Code, PyCharm, Git, etc)')\n",
    "write_file(dev_tools, 'dev_tools.txt')"
   ]
  },
  {
   "cell_type": "markdown",
   "metadata": {},
   "source": [
    "Инструменты для тестирования  (например: GTests, Selenium, Gatling, pytest etc)"
   ]
  },
  {
   "cell_type": "code",
   "execution_count": 81,
   "metadata": {},
   "outputs": [
    {
     "name": "stdout",
     "output_type": "stream",
     "text": [
      "54\n"
     ]
    }
   ],
   "source": [
    "test_tools = extract_from_df('Инструменты для тестирования  (например: GTests, Selenium, Gatling, pytest etc)')\n",
    "write_file(test_tools, 'test_tools.txt')"
   ]
  },
  {
   "cell_type": "markdown",
   "metadata": {},
   "source": [
    "Инструменты CI / CD (например: Jenkins, Travis CI, Docker, etc)"
   ]
  },
  {
   "cell_type": "code",
   "execution_count": 82,
   "metadata": {},
   "outputs": [
    {
     "name": "stdout",
     "output_type": "stream",
     "text": [
      "30\n"
     ]
    }
   ],
   "source": [
    "ci_cd = extract_from_df('Инструменты CI / CD (например: Jenkins, Travis CI, Docker, etc)')\n",
    "write_file(ci_cd, 'CI_CD.txt')"
   ]
  },
  {
   "cell_type": "markdown",
   "metadata": {},
   "source": [
    "Инструменты для управления проектами (например: Jira, Trello, MS Project, etc) "
   ]
  },
  {
   "cell_type": "code",
   "execution_count": 83,
   "metadata": {},
   "outputs": [
    {
     "name": "stdout",
     "output_type": "stream",
     "text": [
      "37\n"
     ]
    }
   ],
   "source": [
    "pr_management_tools = extract_from_df('Инструменты для управления проектами (например: Jira, Trello, MS Project, etc) ')\n",
    "write_file(pr_management_tools, 'project_management_tools.txt')"
   ]
  },
  {
   "cell_type": "markdown",
   "metadata": {},
   "source": [
    "Draft"
   ]
  },
  {
   "cell_type": "code",
   "execution_count": 84,
   "metadata": {},
   "outputs": [],
   "source": [
    "\n",
    "# # Извлечение технологий из каждой строки и объединение в множество\n",
    "# all_languages = set()\n",
    "# for row in new_df['Языки программирования (например: C++, Python, Java, etc)']:\n",
    "#     cleaned_row = row.replace('\\n', '')\n",
    "#     for tech in extract_techs(cleaned_row):\n",
    "#         all_languages.add(tech)\n",
    "#     # all_languages.add(extract_techs(row))\n",
    "\n",
    "# if all_languages:\n",
    "#     # cleaned_matches = [match.strip('n') for match in all_languages]\n",
    "#     cleaned_matches = [match.strip() for match in all_languages]\n",
    "#     print(cleaned_matches)\n",
    "#     # Открываем файл для записи\n",
    "#     with open('languages.txt', 'w', newline='', encoding='utf-8') as file:\n",
    "#         writer = csv.writer(file)\n",
    "#         for tech in cleaned_matches:\n",
    "#             writer.writerow([tech])  # Записываем каждую технологию в отдельной строке файла\n",
    "\n",
    "\n"
   ]
  },
  {
   "cell_type": "code",
   "execution_count": 85,
   "metadata": {},
   "outputs": [],
   "source": [
    "\n",
    "# # Извлечение технологий из каждой строки и объединение в множество\n",
    "# all_frameworks = set()\n",
    "# for row in new_df['Библиотеки и фреймворки для различных направлений использования (например: Qt, Numpy, Weka, Angular, PyTorch, etc)']:\n",
    "#     cleaned_row = row.replace('\\n', '')\n",
    "#     for tech in extract_techs(cleaned_row):\n",
    "#         all_frameworks.add(tech)\n",
    "#     # all_languages.add(extract_techs(row))\n",
    "\n",
    "# if all_frameworks:\n",
    "#     # cleaned_matches = [match.strip('n') for match in all_languages]\n",
    "#     cleaned_matches = [match.strip() for match in all_frameworks]\n",
    "#     print(cleaned_matches)\n",
    "#     # Открываем файл для записи\n",
    "#     with open('frameworks.txt', 'w', newline='', encoding='utf-8') as file:\n",
    "#         writer = csv.writer(file)\n",
    "#         for tech in cleaned_matches:\n",
    "#             writer.writerow([tech])  # Записываем каждую технологию в отдельной строке файла"
   ]
  }
 ],
 "metadata": {
  "kernelspec": {
   "display_name": "Python 3",
   "language": "python",
   "name": "python3"
  },
  "language_info": {
   "codemirror_mode": {
    "name": "ipython",
    "version": 3
   },
   "file_extension": ".py",
   "mimetype": "text/x-python",
   "name": "python",
   "nbconvert_exporter": "python",
   "pygments_lexer": "ipython3",
   "version": "3.10.6"
  }
 },
 "nbformat": 4,
 "nbformat_minor": 2
}
